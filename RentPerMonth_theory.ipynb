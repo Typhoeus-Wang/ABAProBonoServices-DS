{
 "cells": [
  {
   "cell_type": "code",
   "execution_count": 31,
   "metadata": {},
   "outputs": [],
   "source": [
    "# Import packages\n",
    "import numpy as np\n",
    "import pandas as pd\n",
    "import matplotlib.pyplot as plt\n",
    "from statsmodels.stats.proportion import proportions_ztest\n",
    "from datetime import datetime\n"
   ]
  },
  {
   "cell_type": "code",
   "execution_count": 32,
   "metadata": {},
   "outputs": [],
   "source": [
    "# import table\n",
    "questions = pd.read_csv(\"./data/questions.csv\")"
   ]
  },
  {
   "cell_type": "code",
   "execution_count": 33,
   "metadata": {},
   "outputs": [
    {
     "name": "stdout",
     "output_type": "stream",
     "text": [
      "<class 'pandas.core.frame.DataFrame'>\n",
      "6243\n",
      "196636\n",
      "1120\n",
      "33635\n",
      "0.04238555679844479\n"
     ]
    }
   ],
   "source": [
    "# H0: The proportions of housing questions at the start of month is equal to other days of month\n",
    "# Ha: The proportions of housing questions at the start of month is larger than other days of month\n",
    "\n",
    "\n",
    "# questions[\"AskedOnUtc\"] = datetime.fromtimestamp(questions[\"AskedOnUtc\"])\n",
    "print(type(questions))\n",
    "questions['AskedOnUtc'] = pd.to_datetime(questions['AskedOnUtc'])\n",
    "questionsStartOfMonth = questions[(questions['AskedOnUtc'].dt.is_month_start == True)]\n",
    "questionOther = questions[(questions['AskedOnUtc'].dt.is_month_start == False)]\n",
    "\n",
    "# number of questions at start of month, sample size 6243\n",
    "n_questions_StartOfMonth = int(questionsStartOfMonth.shape[0])\n",
    "\n",
    "# number of questions in other days of month, sample size 196636\n",
    "n_questions_Other = int(questionOther.shape[0])\n",
    "\n",
    "# number of questions related to Housing and Homelessness at the start of month, sample success 1120\n",
    "x_questions_Housing_StartOfMonth = int(questionsStartOfMonth[(questionsStartOfMonth[\"Category\"] == \"Housing and Homelessness\")].shape[0])\n",
    "\n",
    "# number of questions related to Housing and Homelessness on other days, sample sucess 33635\n",
    "x_questions_Housing_Other = int(questionOther[(questionOther[\"Category\"] == \"Housing and Homelessness\")].shape[0])\n",
    "\n",
    "print(n_questions_StartOfMonth)\n",
    "print(n_questions_Other)\n",
    "print(x_questions_Housing_StartOfMonth)\n",
    "print(x_questions_Housing_Other)\n",
    "\n",
    "sample_success_startOfMonth, sample_size_startOfMonth = (x_questions_Housing_StartOfMonth, n_questions_StartOfMonth)\n",
    "sample_success_other, sample_size_other = (x_questions_Housing_Other, n_questions_Other)\n",
    "successes = np.array([sample_success_startOfMonth, sample_success_other])\n",
    "samples = np.array([sample_size_startOfMonth, sample_size_other])\n",
    "\n",
    "stat, p_value = proportions_ztest(count=successes, nobs=samples,  alternative='larger')\n",
    "print(p_value)\n",
    "\n",
    "\n",
    "# Since the p_value is smaller than the significant level 0.05, \n",
    "# we conclude that The proportions of housing questions at the start of month is larger than other days of month"
   ]
  }
 ],
 "metadata": {
  "kernelspec": {
   "display_name": "Python 3",
   "language": "python",
   "name": "python3"
  },
  "language_info": {
   "codemirror_mode": {
    "name": "ipython",
    "version": 3
   },
   "file_extension": ".py",
   "mimetype": "text/x-python",
   "name": "python",
   "nbconvert_exporter": "python",
   "pygments_lexer": "ipython3",
   "version": "3.11.1"
  },
  "orig_nbformat": 4
 },
 "nbformat": 4,
 "nbformat_minor": 2
}
