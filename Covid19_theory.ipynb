{
 "cells": [
  {
   "attachments": {},
   "cell_type": "markdown",
   "metadata": {},
   "source": [
    "**inferential statistics**"
   ]
  },
  {
   "cell_type": "code",
   "execution_count": 2,
   "metadata": {},
   "outputs": [],
   "source": [
    "# Import packages\n",
    "import numpy as np\n",
    "import pandas as pd\n",
    "import matplotlib.pyplot as plt\n",
    "from statsmodels.stats.proportion import proportions_ztest"
   ]
  },
  {
   "cell_type": "code",
   "execution_count": 4,
   "metadata": {},
   "outputs": [
    {
     "name": "stdout",
     "output_type": "stream",
     "text": [
      "Family and Children                  88753\n",
      "Other                                37053\n",
      "Housing and Homelessness             34755\n",
      "Consumer Financial Questions         17273\n",
      "Work, Employment and Unemployment    10187\n",
      "Individual Rights                     8312\n",
      "Health and Disability                 2707\n",
      "Income Maintenance                    2688\n",
      "Education                              794\n",
      "Juvenile                               357\n",
      "Name: Category, dtype: int64\n"
     ]
    }
   ],
   "source": [
    "# Read CSV\n",
    "# attorneyMerged = pd.read_csv(\"./clean_data/attorneyMerged.csv\")\n",
    "# clientMerged = pd.read_csv(\"./clean_data/clientMerged.csv\")\n",
    "# clientQuestion = pd.read_csv(\"./clean_data/clientQuestion.csv\")\n",
    "questions = pd.read_csv(\"./data/questions.csv\")\n",
    "\n",
    "print(questions[\"Category\"].value_counts())"
   ]
  },
  {
   "cell_type": "code",
   "execution_count": 6,
   "metadata": {},
   "outputs": [
    {
     "name": "stdout",
     "output_type": "stream",
     "text": [
      "100749\n",
      "102130\n",
      "1415\n",
      "1292\n",
      "0.0031037347765141407\n"
     ]
    }
   ],
   "source": [
    "# show the head of tables\n",
    "\n",
    "# H0: Covid-19 period's proportion of health related qustions is equal to other time period's proportion of health related questions\n",
    "# Ha: Covid-19 period's proportion of health related qustions is larger than other time period's proportion of health related questions\n",
    "\n",
    "\n",
    "covid19Periodquestions = questions[(questions['AskedOnUtc'] >= '2020-01-20 00:00:00') & (questions['AskedOnUtc'] <= '2022-01-25 07:43:43')]\n",
    "otherQuestions = questions[(questions['AskedOnUtc'] < '2020-01-20 00:00:00') | (questions['AskedOnUtc'] > '2022-01-25 07:43:43')]\n",
    "\n",
    "# n_questions_covid19Period = 100749, sample size\n",
    "n_questions_covid19Period = int(covid19Periodquestions.shape[0])\n",
    "\n",
    "# n_questions_other = 102130, sample size\n",
    "n_questions_other = int(otherQuestions.shape[0])\n",
    "\n",
    "# x_question_health_covid_19 = 1415, sample success\n",
    "x_question_health_covid_19 = int(covid19Periodquestions[(covid19Periodquestions['Category'] == \"Health and Disability\")].shape[0])\n",
    "\n",
    "# x_question_health_other = 1292, sample success\n",
    "x_question_health_other = int(otherQuestions[(otherQuestions['Category'] == \"Health and Disability\")].shape[0])\n",
    "\n",
    "\n",
    "# print(covid19Periodquestions.shape[0])\n",
    "# print(otherQuestions.shape[0])\n",
    "print(n_questions_covid19Period)\n",
    "print(n_questions_other)\n",
    "print(x_question_health_covid_19)\n",
    "print(x_question_health_other)\n",
    "\n",
    "\n",
    "# perform \n",
    "sample_success_covid19, sample_size_covid19 = (x_question_health_covid_19, n_questions_covid19Period)\n",
    "sample_success_other, sample_size_other = (x_question_health_other, n_questions_other)\n",
    "successes = np.array([sample_success_covid19, sample_success_other])\n",
    "samples = np.array([sample_size_covid19, sample_size_other])\n",
    "\n",
    "stat, p_value = proportions_ztest(count=successes, nobs=samples,  alternative='larger')\n",
    "print(p_value)\n",
    "\n",
    "# Since our p_value is 0.003 which is smaller than the significant level 0.05,\n",
    "# we could reject the null hypothesis and conclude that the proportions of health-related questions\n",
    "# in covid-19 period is larger than the proportions of health-related questions in other time periods."
   ]
  },
  {
   "cell_type": "code",
   "execution_count": 8,
   "metadata": {},
   "outputs": [
    {
     "name": "stdout",
     "output_type": "stream",
     "text": [
      "6141\n",
      "4046\n",
      "1.3211870506632954e-107\n"
     ]
    }
   ],
   "source": [
    "# x_questions_unemployment_covid_19 = 6141, sample success\n",
    "x_question_unemployment_covid_19 = int(covid19Periodquestions[(covid19Periodquestions['Category'] == \"Work, Employment and Unemployment\")].shape[0])\n",
    "\n",
    "# x_questions_unemployment_other = 4046, sample success\n",
    "x_question_unemployment_other = int(otherQuestions[(otherQuestions['Category'] == \"Work, Employment and Unemployment\")].shape[0])\n",
    "\n",
    "\n",
    "print(x_question_unemployment_covid_19)\n",
    "print(x_question_unemployment_other)\n",
    "\n",
    "\n",
    "sample_success_unemployment, sample_size_unemployment = (x_question_unemployment_covid_19, n_questions_covid19Period)\n",
    "sample_success_other, sample_size_other = (x_question_unemployment_other, n_questions_other)\n",
    "successes = np.array([sample_success_unemployment, sample_success_other])\n",
    "samples = np.array([sample_size_unemployment, sample_size_other])\n",
    "\n",
    "stat, p_value = proportions_ztest(count=successes, nobs=samples,  alternative='larger')\n",
    "print(p_value)\n",
    "\n",
    "# Conclusion: We found that the p-value is smaller than the significant level 0.05, \n",
    "# thus we reject the null hypothesis and conclude that the proportions of work related \n",
    "# questions during covid-19 period is much larger than other days."
   ]
  }
 ],
 "metadata": {
  "kernelspec": {
   "display_name": "Python 3",
   "language": "python",
   "name": "python3"
  },
  "language_info": {
   "codemirror_mode": {
    "name": "ipython",
    "version": 3
   },
   "file_extension": ".py",
   "mimetype": "text/x-python",
   "name": "python",
   "nbconvert_exporter": "python",
   "pygments_lexer": "ipython3",
   "version": "3.11.1"
  },
  "orig_nbformat": 4
 },
 "nbformat": 4,
 "nbformat_minor": 2
}
